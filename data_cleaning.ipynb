{
 "cells": [
  {
   "cell_type": "code",
   "execution_count": 73,
   "id": "60bffe0c",
   "metadata": {},
   "outputs": [],
   "source": [
    "import pandas as pd\n",
    "import numpy\n",
    "import matplotlib\n",
    "import seaborn\n",
    "import datetime as dt\n",
    "import warnings\n",
    "warnings.filterwarnings('ignore')"
   ]
  },
  {
   "cell_type": "code",
   "execution_count": 74,
   "id": "6b8bb315",
   "metadata": {},
   "outputs": [],
   "source": [
    "fund_df = pd.read_excel('dataset_gofundme_2.xlsx')"
   ]
  },
  {
   "cell_type": "code",
   "execution_count": 75,
   "id": "299bf48f",
   "metadata": {},
   "outputs": [
    {
     "name": "stdout",
     "output_type": "stream",
     "text": [
      "<class 'pandas.core.frame.DataFrame'>\n",
      "RangeIndex: 7052 entries, 0 to 7051\n",
      "Data columns (total 57 columns):\n",
      " #   Column                 Non-Null Count  Dtype  \n",
      "---  ------                 --------------  -----  \n",
      " 0   amount_to_goal         6553 non-null   float64\n",
      " 1   balance                7052 non-null   int64  \n",
      " 2   bene_name              1706 non-null   object \n",
      " 3   cat_name               7052 non-null   object \n",
      " 4   category_id            7052 non-null   int64  \n",
      " 5   cdn_pic                6927 non-null   object \n",
      " 6   cdn_thumbnail          6958 non-null   float64\n",
      " 7   charity_id             205 non-null    float64\n",
      " 8   charity_name           205 non-null    object \n",
      " 9   city                   7052 non-null   object \n",
      " 10  comment_count_full     7052 non-null   int64  \n",
      " 11  country                7052 non-null   object \n",
      " 12  created_at             7052 non-null   object \n",
      " 13  currencycode           7052 non-null   object \n",
      " 14  custom_complete        7052 non-null   bool   \n",
      " 15  donation_count         5440 non-null   float64\n",
      " 16  donation_count_full    7052 non-null   int64  \n",
      " 17  facebook_id            374 non-null    float64\n",
      " 18  funddescription        7050 non-null   object \n",
      " 19  fundname               7052 non-null   object \n",
      " 20  geoloc/lat             7052 non-null   float64\n",
      " 21  geoloc/lng             7052 non-null   float64\n",
      " 22  goal_progress          7052 non-null   float64\n",
      " 23  goalamount             7052 non-null   int64  \n",
      " 24  good_to_share          567 non-null    float64\n",
      " 25  has_donations          7052 non-null   bool   \n",
      " 26  has_recent_donations   7051 non-null   float64\n",
      " 27  heart_count            7046 non-null   float64\n",
      " 28  high_balance_score     47 non-null     float64\n",
      " 29  id                     7052 non-null   int64  \n",
      " 30  is_popular_2           36 non-null     float64\n",
      " 31  last_donation_at       7052 non-null   object \n",
      " 32  locationtext           7052 non-null   object \n",
      " 33  main_img_url           7052 non-null   object \n",
      " 34  mediatype              6925 non-null   float64\n",
      " 35  partner_codes/0        26 non-null     object \n",
      " 36  popularity_1           7052 non-null   float64\n",
      " 37  popularity_2           7052 non-null   float64\n",
      " 38  popularity_2_fixed     7052 non-null   float64\n",
      " 39  popularity_updated_at  7052 non-null   object \n",
      " 40  projecttype            7052 non-null   int64  \n",
      " 41  realbalance            7052 non-null   int64  \n",
      " 42  recent_donation_count  4116 non-null   float64\n",
      " 43  recently_created       7040 non-null   float64\n",
      " 44  social_share_total     7 non-null      float64\n",
      " 45  state                  7052 non-null   object \n",
      " 46  status                 7052 non-null   int64  \n",
      " 47  thumb_img_url          7052 non-null   object \n",
      " 48  timeout_start          7052 non-null   object \n",
      " 49  updated_at             7052 non-null   object \n",
      " 50  url                    7052 non-null   object \n",
      " 51  user_language_id       7044 non-null   float64\n",
      " 52  user_language_locale   7044 non-null   object \n",
      " 53  user_language_name     7044 non-null   object \n",
      " 54  username               7051 non-null   object \n",
      " 55  youtube_url            127 non-null    object \n",
      " 56  zip                    7052 non-null   int64  \n",
      "dtypes: bool(2), float64(21), int64(10), object(24)\n",
      "memory usage: 3.0+ MB\n",
      "None\n"
     ]
    }
   ],
   "source": [
    "print(fund_df.info())"
   ]
  },
  {
   "cell_type": "code",
   "execution_count": 76,
   "id": "8b31319e",
   "metadata": {},
   "outputs": [
    {
     "name": "stdout",
     "output_type": "stream",
     "text": [
      "   amount_to_goal  balance      bene_name                    cat_name  \\\n",
      "0         66484.0   803516            NaN              Animals & Pets   \n",
      "1             NaN    69589  Eric Lagstein  Medical, Illness & Healing   \n",
      "2          8066.0    26934            NaN        Funerals & Memorials   \n",
      "3         34112.0    15888            NaN              Animals & Pets   \n",
      "4             NaN    34322            NaN        Funerals & Memorials   \n",
      "\n",
      "   category_id                          cdn_pic  cdn_thumbnail  charity_id  \\\n",
      "0            3  89979711_1743449371491567_r.png            1.0    142704.0   \n",
      "1           11  90174593_1744226355687585_r.png            1.0         NaN   \n",
      "2            9  90213769_1744299031956318_r.png            1.0         NaN   \n",
      "3            3  90202307_1744243930897535_r.png            1.0         NaN   \n",
      "4            9   90139729_174404865371667_r.png            1.0         NaN   \n",
      "\n",
      "     charity_name            city  ...  \\\n",
      "0  happyy cat Inc  Port Jefferson  ...   \n",
      "1             NaN         Wyckoff  ...   \n",
      "2             NaN    Passaic Park  ...   \n",
      "3             NaN         Newtown  ...   \n",
      "4             NaN      Maplecrest  ...   \n",
      "\n",
      "                                       thumb_img_url         timeout_start  \\\n",
      "0  https://images.gofundme.com/femZKo23sfRIQ9nMc6...  2025-03-31T19:34:17Z   \n",
      "1  https://images.gofundme.com/lmJsRLnL1G1L1u_5Os...  2025-04-09T19:42:49Z   \n",
      "2  https://images.gofundme.com/xf8O4i6SigAF4T6YCP...  2025-04-10T15:49:23Z   \n",
      "3  https://images.gofundme.com/RvDJFcfJ9QZvVz7UNc...  2025-04-10T00:21:08Z   \n",
      "4  https://images.gofundme.com/uwgdl5MR_S6WdEVA-6...  2025-04-07T20:00:15Z   \n",
      "\n",
      "             updated_at                                                url  \\\n",
      "0  2025-04-11T06:18:00Z  https://www.gofundme.com/f/support-happy-cat-s...   \n",
      "1  2025-04-11T04:29:00Z  https://www.gofundme.com/f/join-miles-journey-...   \n",
      "2  2025-04-11T06:19:00Z  https://www.gofundme.com/f/in-memoriam-of-jenn...   \n",
      "3  2025-04-11T06:20:00Z  https://www.gofundme.com/f/help-us-get-a-van-f...   \n",
      "4  2025-04-11T03:55:00Z  https://www.gofundme.com/f/in-the-memory-of-na...   \n",
      "\n",
      "   user_language_id  user_language_locale  user_language_name  \\\n",
      "0               1.0                 en_US             English   \n",
      "1               8.0                 en_GB        English (UK)   \n",
      "2               1.0                 en_US             English   \n",
      "3               1.0                 en_US             English   \n",
      "4               1.0                 en_US             English   \n",
      "\n",
      "            username youtube_url    zip  \n",
      "0        Lisa Jaeger         NaN  11777  \n",
      "1        Erica Jalil         NaN   7481  \n",
      "2  Anthony Contreras         NaN   7055  \n",
      "3   Kristy Kokolakis         NaN   6470  \n",
      "4    Rebecca Charles         NaN   7040  \n",
      "\n",
      "[5 rows x 57 columns]\n"
     ]
    }
   ],
   "source": [
    "print(fund_df.head())"
   ]
  },
  {
   "cell_type": "code",
   "execution_count": 77,
   "id": "726794c2",
   "metadata": {},
   "outputs": [
    {
     "name": "stdout",
     "output_type": "stream",
     "text": [
      "\n",
      "Columns with data type 'float64':\n",
      " - amount_to_goal\n",
      " - cdn_thumbnail\n",
      " - charity_id\n",
      " - donation_count\n",
      " - facebook_id\n",
      " - geoloc/lat\n",
      " - geoloc/lng\n",
      " - goal_progress\n",
      " - good_to_share\n",
      " - has_recent_donations\n",
      " - heart_count\n",
      " - high_balance_score\n",
      " - is_popular_2\n",
      " - mediatype\n",
      " - popularity_1\n",
      " - popularity_2\n",
      " - popularity_2_fixed\n",
      " - recent_donation_count\n",
      " - recently_created\n",
      " - social_share_total\n",
      " - user_language_id\n",
      "\n",
      "Columns with data type 'int64':\n",
      " - balance\n",
      " - category_id\n",
      " - comment_count_full\n",
      " - donation_count_full\n",
      " - goalamount\n",
      " - id\n",
      " - projecttype\n",
      " - realbalance\n",
      " - status\n",
      " - zip\n",
      "\n",
      "Columns with data type 'object':\n",
      " - bene_name\n",
      " - cat_name\n",
      " - cdn_pic\n",
      " - charity_name\n",
      " - city\n",
      " - country\n",
      " - created_at\n",
      " - currencycode\n",
      " - funddescription\n",
      " - fundname\n",
      " - last_donation_at\n",
      " - locationtext\n",
      " - main_img_url\n",
      " - partner_codes/0\n",
      " - popularity_updated_at\n",
      " - state\n",
      " - thumb_img_url\n",
      " - timeout_start\n",
      " - updated_at\n",
      " - url\n",
      " - user_language_locale\n",
      " - user_language_name\n",
      " - username\n",
      " - youtube_url\n",
      "\n",
      "Columns with data type 'bool':\n",
      " - custom_complete\n",
      " - has_donations\n"
     ]
    }
   ],
   "source": [
    "# Get columns by data type\n",
    "data_types = fund_df.dtypes\n",
    "\n",
    "# Group columns by dtype\n",
    "dtype_groups = {}\n",
    "for dtype in data_types.unique():\n",
    "    dtype_groups[str(dtype)] = list(data_types[data_types == dtype].index)\n",
    "\n",
    "# Print grouped columns\n",
    "for dtype, cols in dtype_groups.items():\n",
    "    print(f\"\\nColumns with data type '{dtype}':\")\n",
    "    for col in cols:\n",
    "        print(f\" - {col}\")\n"
   ]
  },
  {
   "cell_type": "markdown",
   "id": "332edd7d",
   "metadata": {},
   "source": [
    "## Data cleaning\n"
   ]
  },
  {
   "cell_type": "code",
   "execution_count": 78,
   "id": "ebe6e5b6",
   "metadata": {},
   "outputs": [],
   "source": [
    "columns_to_drop = ['main_img_url', 'thumb_img_url', 'cdn_pic', 'url', 'youtube_url', 'mediatype','cdn_thumbnail', 'facebook_id', 'charity_id' ]\n",
    "fund_df = fund_df.drop(columns=[col for col in columns_to_drop if col in fund_df.columns])"
   ]
  },
  {
   "cell_type": "code",
   "execution_count": 79,
   "id": "3330cdb6",
   "metadata": {},
   "outputs": [],
   "source": [
    "# Updating column names\n",
    "fund_df.rename(columns={'geoloc/lat': 'geoloc_lat', 'geoloc/lng': 'geoloc_lng'}, inplace=True)"
   ]
  },
  {
   "cell_type": "markdown",
   "id": "8dcace26",
   "metadata": {},
   "source": [
    "### Data Type Standardization"
   ]
  },
  {
   "cell_type": "code",
   "execution_count": 80,
   "id": "3b7f3c8f",
   "metadata": {},
   "outputs": [
    {
     "name": "stdout",
     "output_type": "stream",
     "text": [
      "created_at               datetime64[ns, UTC]\n",
      "last_donation_at         datetime64[ns, UTC]\n",
      "popularity_updated_at    datetime64[ns, UTC]\n",
      "timeout_start            datetime64[ns, UTC]\n",
      "updated_at               datetime64[ns, UTC]\n",
      "dtype: object\n"
     ]
    }
   ],
   "source": [
    "# List of date columns\n",
    "date_columns = [\n",
    "    'created_at', \n",
    "    'last_donation_at', \n",
    "    'popularity_updated_at', \n",
    "    'timeout_start', \n",
    "    'updated_at'\n",
    "]\n",
    "\n",
    "#Convert to datetime\n",
    "for col in date_columns:\n",
    "    fund_df[col] = pd.to_datetime(fund_df[col], errors='coerce')\n",
    "\n",
    "print(fund_df[date_columns].dtypes)\n"
   ]
  },
  {
   "cell_type": "code",
   "execution_count": 81,
   "id": "0c54e973",
   "metadata": {},
   "outputs": [
    {
     "name": "stdout",
     "output_type": "stream",
     "text": [
      "{'created_at': np.int64(0), 'last_donation_at': np.int64(0), 'popularity_updated_at': np.int64(0), 'timeout_start': np.int64(0), 'updated_at': np.int64(0)}\n"
     ]
    }
   ],
   "source": [
    "#Check for any missing values in the date columns\n",
    "missing_dates = {col: fund_df[col].isna().sum() for col in date_columns}\n",
    "print(missing_dates)"
   ]
  },
  {
   "cell_type": "code",
   "execution_count": 82,
   "id": "57e3dec0",
   "metadata": {},
   "outputs": [],
   "source": [
    "# If required for analysis.\n",
    "#fund_df['days_active'] = (fund_df['last_donation_at'] - fund_df['created_at']).dt.days\n",
    "#fund_df['days_since_last_update'] = (fund_df['updated_at'] - fund_df['created_at']).dt.days"
   ]
  },
  {
   "cell_type": "code",
   "execution_count": null,
   "id": "9c207752",
   "metadata": {},
   "outputs": [
    {
     "name": "stdout",
     "output_type": "stream",
     "text": [
      "has_recent_donations - dtype: bool, unique: [ True False]\n",
      "good_to_share - dtype: bool, unique: [ True False]\n",
      "recently_created - dtype: bool, unique: [ True False]\n",
      "is_popular_2 - dtype: bool, unique: [ True False]\n"
     ]
    }
   ],
   "source": [
    "# Columns to convert to boolean\n",
    "bool_columns = ['has_recent_donations', 'good_to_share', 'recently_created', 'is_popular_2']\n",
    "\n",
    "# loop to handle missing values and convert to boolean\n",
    "for col in bool_columns:\n",
    "    fund_df[col] = fund_df[col].fillna(0).astype(bool)\n",
    "    print(f\"{col} - dtype: {fund_df[col].dtype}, unique: {fund_df[col].unique()}\")\n",
    "\n"
   ]
  },
  {
   "cell_type": "code",
   "execution_count": 84,
   "id": "b0cd90f5",
   "metadata": {},
   "outputs": [],
   "source": [
    "#Handling int64 data type columns\n",
    "fund_df['zip'] = fund_df['zip'].astype(str).str.zfill(5)  # Handles leading zeroes"
   ]
  },
  {
   "cell_type": "code",
   "execution_count": 85,
   "id": "5abb0602",
   "metadata": {},
   "outputs": [],
   "source": [
    "for col in ['donation_count_full', 'comment_count_full']:\n",
    "    fund_df[col + '_log'] = numpy.log1p(fund_df[col])  # For EDA"
   ]
  },
  {
   "cell_type": "code",
   "execution_count": 86,
   "id": "569d3d63",
   "metadata": {},
   "outputs": [
    {
     "name": "stdout",
     "output_type": "stream",
     "text": [
      "\n",
      "Missing values per column:\n",
      "social_share_total         7045\n",
      "partner_codes/0            7026\n",
      "high_balance_score         7005\n",
      "charity_name               6847\n",
      "bene_name                  5346\n",
      "recent_donation_count      2936\n",
      "donation_count             1612\n",
      "amount_to_goal              499\n",
      "user_language_locale          8\n",
      "user_language_id              8\n",
      "user_language_name            8\n",
      "heart_count                   6\n",
      "funddescription               2\n",
      "username                      1\n",
      "city                          0\n",
      "comment_count_full            0\n",
      "cat_name                      0\n",
      "balance                       0\n",
      "geoloc_lng                    0\n",
      "geoloc_lat                    0\n",
      "fundname                      0\n",
      "donation_count_full           0\n",
      "currencycode                  0\n",
      "custom_complete               0\n",
      "country                       0\n",
      "created_at                    0\n",
      "category_id                   0\n",
      "is_popular_2                  0\n",
      "id                            0\n",
      "goal_progress                 0\n",
      "has_donations                 0\n",
      "good_to_share                 0\n",
      "has_recent_donations          0\n",
      "goalamount                    0\n",
      "popularity_updated_at         0\n",
      "popularity_2_fixed            0\n",
      "popularity_2                  0\n",
      "popularity_1                  0\n",
      "locationtext                  0\n",
      "last_donation_at              0\n",
      "realbalance                   0\n",
      "projecttype                   0\n",
      "timeout_start                 0\n",
      "status                        0\n",
      "state                         0\n",
      "recently_created              0\n",
      "updated_at                    0\n",
      "zip                           0\n",
      "donation_count_full_log       0\n",
      "comment_count_full_log        0\n",
      "dtype: int64\n",
      "\n",
      "Number of duplicate rows: 0\n"
     ]
    }
   ],
   "source": [
    "print(\"\\nMissing values per column:\")\n",
    "print(fund_df.isnull().sum().sort_values(ascending=False))\n",
    "\n",
    "# Check for duplicate rows\n",
    "print(f\"\\nNumber of duplicate rows: {fund_df.duplicated().sum()}\")"
   ]
  },
  {
   "cell_type": "markdown",
   "id": "a3bd235b",
   "metadata": {},
   "source": [
    "### Handle Missing Values"
   ]
  },
  {
   "cell_type": "code",
   "execution_count": 87,
   "id": "f0e04265",
   "metadata": {},
   "outputs": [],
   "source": [
    "# Copy the dataframe\n",
    "fund_df_cleaned = fund_df.copy()\n",
    "\n",
    "# 1. username\n",
    "fund_df_cleaned['username'].fillna(\"Unknown\", inplace=True)\n",
    "\n",
    "# 2. funddescription\n",
    "fund_df_cleaned['funddescription'].fillna(\"No description provided\", inplace=True)\n",
    "\n",
    "# 3. charity_name (object)\n",
    "fund_df_cleaned['charity_name'].fillna(\"Independent\", inplace=True)\n",
    "\n",
    "# 4. partner_codes/0 \n",
    "fund_df_cleaned['partner_codes/0'].fillna(\"None\", inplace=True)\n",
    "\n",
    "# 5. bene_name (object) → fill with \"Unknown\"\n",
    "fund_df_cleaned['bene_name'].fillna(\"Unknown\", inplace=True)\n",
    "\n",
    "\n",
    "median_fill_cols = ['heart_count', 'amount_to_goal', 'donation_count', 'recent_donation_count', 'high_balance_score', 'social_share_total']\n",
    "for col in median_fill_cols:\n",
    "    median_val = fund_df_cleaned[col].median()\n",
    "    fund_df_cleaned[col].fillna(median_val, inplace=True)\n",
    "\n",
    "mode_fill_cols = ['user_language_id', 'user_language_locale', 'user_language_name']\n",
    "for col in mode_fill_cols:\n",
    "    mode_val = fund_df_cleaned[col].mode()[0]\n",
    "    fund_df_cleaned[col].fillna(mode_val, inplace=True)"
   ]
  },
  {
   "cell_type": "code",
   "execution_count": 88,
   "id": "cf0058ab",
   "metadata": {},
   "outputs": [
    {
     "name": "stdout",
     "output_type": "stream",
     "text": [
      "amount_to_goal             0\n",
      "balance                    0\n",
      "bene_name                  0\n",
      "cat_name                   0\n",
      "category_id                0\n",
      "charity_name               0\n",
      "city                       0\n",
      "comment_count_full         0\n",
      "country                    0\n",
      "created_at                 0\n",
      "currencycode               0\n",
      "custom_complete            0\n",
      "donation_count             0\n",
      "donation_count_full        0\n",
      "funddescription            0\n",
      "fundname                   0\n",
      "geoloc_lat                 0\n",
      "geoloc_lng                 0\n",
      "goal_progress              0\n",
      "goalamount                 0\n",
      "good_to_share              0\n",
      "has_donations              0\n",
      "has_recent_donations       0\n",
      "heart_count                0\n",
      "high_balance_score         0\n",
      "id                         0\n",
      "is_popular_2               0\n",
      "last_donation_at           0\n",
      "locationtext               0\n",
      "partner_codes/0            0\n",
      "popularity_1               0\n",
      "popularity_2               0\n",
      "popularity_2_fixed         0\n",
      "popularity_updated_at      0\n",
      "projecttype                0\n",
      "realbalance                0\n",
      "recent_donation_count      0\n",
      "recently_created           0\n",
      "social_share_total         0\n",
      "state                      0\n",
      "status                     0\n",
      "timeout_start              0\n",
      "updated_at                 0\n",
      "user_language_id           0\n",
      "user_language_locale       0\n",
      "user_language_name         0\n",
      "username                   0\n",
      "zip                        0\n",
      "donation_count_full_log    0\n",
      "comment_count_full_log     0\n",
      "dtype: int64\n"
     ]
    }
   ],
   "source": [
    "print(fund_df_cleaned.isnull().sum().sort_values(ascending=False))"
   ]
  },
  {
   "cell_type": "code",
   "execution_count": 89,
   "id": "0f8251f7",
   "metadata": {},
   "outputs": [],
   "source": [
    "fund_df_cleaned.to_csv('cleaned_fundme_data.csv', index=False)"
   ]
  }
 ],
 "metadata": {
  "kernelspec": {
   "display_name": "Python 3",
   "language": "python",
   "name": "python3"
  },
  "language_info": {
   "codemirror_mode": {
    "name": "ipython",
    "version": 3
   },
   "file_extension": ".py",
   "mimetype": "text/x-python",
   "name": "python",
   "nbconvert_exporter": "python",
   "pygments_lexer": "ipython3",
   "version": "3.13.1"
  }
 },
 "nbformat": 4,
 "nbformat_minor": 5
}
